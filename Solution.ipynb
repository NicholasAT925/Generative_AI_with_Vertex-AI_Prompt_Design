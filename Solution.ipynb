{
 "cells": [
  {
   "cell_type": "code",
   "execution_count": null,
   "metadata": {
    "id": "ur8xi4C7S06n"
   },
   "outputs": [],
   "source": [
    "# Copyright 2024 Google LLC\n",
    "#\n",
    "# Licensed under the Apache License, Version 2.0 (the \"License\");\n",
    "# you may not use this file except in compliance with the License.\n",
    "# You may obtain a copy of the License at\n",
    "#\n",
    "#     https://www.apache.org/licenses/LICENSE-2.0\n",
    "#\n",
    "# Unless required by applicable law or agreed to in writing, software\n",
    "# distributed under the License is distributed on an \"AS IS\" BASIS,\n",
    "# WITHOUT WARRANTIES OR CONDITIONS OF ANY KIND, either express or implied.\n",
    "# See the License for the specific language governing permissions and\n",
    "# limitations under the License."
   ]
  },
  {
   "cell_type": "markdown",
   "metadata": {
    "id": "JAPoU8Sm5E6e"
   },
   "source": [
    "# Prompt Design - Best Practices\n",
    "\n",
    "<table align=\"left\">\n",
    "  <td style=\"text-align: center\">\n",
    "    <a href=\"https://colab.research.google.com/github/GoogleCloudPlatform/generative-ai/blob/main/gemini/prompts/intro_prompt_design.ipynb\">\n",
    "      <img src=\"https://cloud.google.com/ml-engine/images/colab-logo-32px.png\" alt=\"Google Colaboratory logo\"><br> Open in Colab\n",
    "    </a>\n",
    "  </td>\n",
    "  <td style=\"text-align: center\">\n",
    "    <a href=\"https://console.cloud.google.com/vertex-ai/colab/import/https:%2F%2Fraw.githubusercontent.com%2FGoogleCloudPlatform%2Fgenerative-ai%2Fmain%2Fgemini%2Fprompts%2Fintro_prompt_design.ipynb\">\n",
    "      <img width=\"32px\" src=\"https://lh3.googleusercontent.com/JmcxdQi-qOpctIvWKgPtrzZdJJK-J3sWE1RsfjZNwshCFgE_9fULcNpuXYTilIR2hjwN\" alt=\"Google Cloud Colab Enterprise logo\"><br> Open in Colab Enterprise\n",
    "    </a>\n",
    "  </td>    \n",
    "  <td style=\"text-align: center\">\n",
    "    <a href=\"https://console.cloud.google.com/vertex-ai/workbench/deploy-notebook?download_url=https://raw.githubusercontent.com/GoogleCloudPlatform/generative-ai/main/gemini/prompts/intro_prompt_design.ipynb\">\n",
    "      <img src=\"https://lh3.googleusercontent.com/UiNooY4LUgW_oTvpsNhPpQzsstV5W8F7rYgxgGBD85cWJoLmrOzhVs_ksK_vgx40SHs7jCqkTkCk=e14-rj-sc0xffffff-h130-w32\" alt=\"Vertex AI logo\"><br> Open in Workbench\n",
    "    </a>\n",
    "  </td>\n",
    "  <td style=\"text-align: center\">\n",
    "    <a href=\"https://github.com/GoogleCloudPlatform/generative-ai/blob/main/gemini/prompts/intro_prompt_design.ipynb\">\n",
    "      <img src=\"https://cloud.google.com/ml-engine/images/github-logo-32px.png\" alt=\"GitHub logo\"><br> View on GitHub\n",
    "    </a>\n",
    "  </td>\n",
    "  <td style=\"text-align: center\">\n",
    "    <a href=\"https://goo.gle/4fWHlze\">\n",
    "      <img width=\"32px\" src=\"https://cdn.qwiklabs.com/assets/gcp_cloud-e3a77215f0b8bfa9b3f611c0d2208c7e8708ed31.svg\" alt=\"Google Cloud logo\"><br> Open in  Cloud Skills Boost\n",
    "    </a>\n",
    "  </td>\n",
    "</table>\n",
    "\n",
    "<div style=\"clear: both;\"></div>\n",
    "\n",
    "<b>Share to:</b>\n",
    "\n",
    "<a href=\"https://www.linkedin.com/sharing/share-offsite/?url=https%3A//github.com/GoogleCloudPlatform/generative-ai/blob/main/gemini/prompts/intro_prompt_design.ipynb\" target=\"_blank\">\n",
    "  <img width=\"20px\" src=\"https://upload.wikimedia.org/wikipedia/commons/8/81/LinkedIn_icon.svg\" alt=\"LinkedIn logo\">\n",
    "</a>\n",
    "\n",
    "<a href=\"https://bsky.app/intent/compose?text=https%3A//github.com/GoogleCloudPlatform/generative-ai/blob/main/gemini/prompts/intro_prompt_design.ipynb\" target=\"_blank\">\n",
    "  <img width=\"20px\" src=\"https://upload.wikimedia.org/wikipedia/commons/7/7a/Bluesky_Logo.svg\" alt=\"Bluesky logo\">\n",
    "</a>\n",
    "\n",
    "<a href=\"https://twitter.com/intent/tweet?url=https%3A//github.com/GoogleCloudPlatform/generative-ai/blob/main/gemini/prompts/intro_prompt_design.ipynb\" target=\"_blank\">\n",
    "  <img width=\"20px\" src=\"https://upload.wikimedia.org/wikipedia/commons/5/5a/X_icon_2.svg\" alt=\"X logo\">\n",
    "</a>\n",
    "\n",
    "<a href=\"https://reddit.com/submit?url=https%3A//github.com/GoogleCloudPlatform/generative-ai/blob/main/gemini/prompts/intro_prompt_design.ipynb\" target=\"_blank\">\n",
    "  <img width=\"20px\" src=\"https://redditinc.com/hubfs/Reddit%20Inc/Brand/Reddit_Logo.png\" alt=\"Reddit logo\">\n",
    "</a>\n",
    "\n",
    "<a href=\"https://www.facebook.com/sharer/sharer.php?u=https%3A//github.com/GoogleCloudPlatform/generative-ai/blob/main/gemini/prompts/intro_prompt_design.ipynb\" target=\"_blank\">\n",
    "  <img width=\"20px\" src=\"https://upload.wikimedia.org/wikipedia/commons/5/51/Facebook_f_logo_%282019%29.svg\" alt=\"Facebook logo\">\n",
    "</a>            "
   ]
  },
  {
   "cell_type": "markdown",
   "metadata": {
    "id": "84f0f73a0f76"
   },
   "source": [
    "| Authors |\n",
    "| --- |\n",
    "| [Polong Lin](https://github.com/polong-lin) |\n",
    "| [Karl Weinmeister](https://github.com/kweinmeister) |"
   ]
  },
  {
   "cell_type": "markdown",
   "metadata": {
    "id": "tvgnzT1CKxrO"
   },
   "source": [
    "## Overview\n",
    "\n",
    "This notebook covers the essentials of prompt engineering, including some best practices.\n",
    "\n",
    "Learn more about prompt design in the [official documentation](https://cloud.google.com/vertex-ai/docs/generative-ai/text/text-overview).\n",
    "\n",
    "In this notebook, you learn best practices around prompt engineering -- how to design prompts to improve the quality of your responses.\n",
    "\n",
    "This notebook covers the following best practices for prompt engineering:\n",
    "\n",
    "- Be concise\n",
    "- Be specific and well-defined\n",
    "- Ask one task at a time\n",
    "- Turn generative tasks into classification tasks\n",
    "- Improve response quality by including examples"
   ]
  },
  {
   "cell_type": "markdown",
   "metadata": {
    "id": "61RBz8LLbxCR"
   },
   "source": [
    "## Getting Started"
   ]
  },
  {
   "cell_type": "markdown",
   "metadata": {
    "id": "No17Cw5hgx12"
   },
   "source": [
    "### Install Google Gen AI SDK\n"
   ]
  },
  {
   "cell_type": "code",
   "execution_count": 1,
   "metadata": {
    "id": "tFy3H3aPgx12",
    "tags": []
   },
   "outputs": [
    {
     "name": "stdout",
     "output_type": "stream",
     "text": [
      "Note: you may need to restart the kernel to use updated packages.\n"
     ]
    }
   ],
   "source": [
    "%pip install --upgrade --quiet google-genai"
   ]
  },
  {
   "cell_type": "markdown",
   "metadata": {},
   "source": [
    "### Restart runtime\n",
    "\n",
    "To use the newly installed packages in this Jupyter runtime, you must restart the runtime. You can do this by running the cell below, which will restart the current kernel."
   ]
  },
  {
   "cell_type": "code",
   "execution_count": 2,
   "metadata": {
    "tags": []
   },
   "outputs": [
    {
     "data": {
      "text/plain": [
       "{'status': 'ok', 'restart': True}"
      ]
     },
     "execution_count": 2,
     "metadata": {},
     "output_type": "execute_result"
    }
   ],
   "source": [
    "import IPython\n",
    "\n",
    "app = IPython.Application.instance()\n",
    "app.kernel.do_shutdown(True)"
   ]
  },
  {
   "cell_type": "markdown",
   "metadata": {},
   "source": [
    "<div class=\"alert alert-block alert-warning\">\n",
    "<b>⚠️ The kernel is going to restart. Please wait until it is finished before continuing to the next step. ⚠️</b>\n",
    "</div>\n"
   ]
  },
  {
   "cell_type": "markdown",
   "metadata": {
    "id": "dmWOrTJ3gx13"
   },
   "source": [
    "### Authenticate your notebook environment (Colab only)\n",
    "\n",
    "Authenticate your environment on Google Colab.\n"
   ]
  },
  {
   "cell_type": "code",
   "execution_count": 1,
   "metadata": {
    "id": "NyKGtVQjgx13",
    "tags": []
   },
   "outputs": [],
   "source": [
    "import sys\n",
    "\n",
    "if \"google.colab\" in sys.modules:\n",
    "    from google.colab import auth\n",
    "\n",
    "    auth.authenticate_user()"
   ]
  },
  {
   "cell_type": "markdown",
   "metadata": {
    "id": "06489bd14f16"
   },
   "source": [
    "### Import libraries\n"
   ]
  },
  {
   "cell_type": "code",
   "execution_count": 2,
   "metadata": {
    "id": "154137022fb6",
    "tags": []
   },
   "outputs": [],
   "source": [
    "from IPython.display import Markdown, display\n",
    "from google import genai\n",
    "from google.genai.types import GenerateContentConfig"
   ]
  },
  {
   "cell_type": "markdown",
   "metadata": {
    "id": "DF4l8DTdWgPY"
   },
   "source": [
    "### Set Google Cloud project information and create client\n",
    "\n",
    "To get started using Vertex AI, you must have an existing Google Cloud project and [enable the Vertex AI API](https://console.cloud.google.com/flows/enableapi?apiid=aiplatform.googleapis.com).\n",
    "\n",
    "Learn more about [setting up a project and a development environment](https://cloud.google.com/vertex-ai/docs/start/cloud-environment).\n",
    "\n",
    "Initialize the Gen AI SDK for Python for your project."
   ]
  },
  {
   "cell_type": "code",
   "execution_count": 3,
   "metadata": {
    "id": "Nqwi-5ufWp_B",
    "tags": []
   },
   "outputs": [],
   "source": [
    "# Define project information\n",
    "PROJECT_ID = \"qwiklabs-gcp-02-fec0c2c8ac8f\"  # @param {type:\"string\"}\n",
    "LOCATION = \"us-central1\"  # @param {type:\"string\"}\n",
    "\n",
    "# Create the API client\n",
    "from google import genai\n",
    "client = genai.Client(vertexai=True, project=PROJECT_ID, location=LOCATION)"
   ]
  },
  {
   "cell_type": "markdown",
   "metadata": {
    "id": "OnFPpCRtXRl4"
   },
   "source": [
    "### Load model\n",
    "\n",
    "Learn more about all [Gemini models on Vertex AI](https://cloud.google.com/vertex-ai/generative-ai/docs/learn/models#gemini-models)."
   ]
  },
  {
   "cell_type": "code",
   "execution_count": 4,
   "metadata": {
    "id": "IQYu_9SvXQah",
    "tags": []
   },
   "outputs": [],
   "source": [
    "MODEL_ID = \"gemini-2.0-flash-001\"  # @param {type: \"string\"}"
   ]
  },
  {
   "cell_type": "markdown",
   "metadata": {
    "id": "cVOtUNJ5X0PY"
   },
   "source": [
    "## Prompt engineering best practices"
   ]
  },
  {
   "cell_type": "markdown",
   "metadata": {
    "id": "uv_e0fEPX60q"
   },
   "source": [
    "Prompt engineering is all about how to design your prompts so that the response is what you were indeed hoping to see.\n",
    "\n",
    "The idea of using \"unfancy\" prompts is to minimize the noise in your prompt to reduce the possibility of the LLM misinterpreting the intent of the prompt. Below are a few guidelines on how to engineer \"unfancy\" prompts.\n",
    "\n",
    "In this section, you'll cover the following best practices when engineering prompts:\n",
    "\n",
    "* Be concise\n",
    "* Be specific, and well-defined\n",
    "* Ask one task at a time\n",
    "* Improve response quality by including examples\n",
    "* Turn generative tasks to classification tasks to improve safety"
   ]
  },
  {
   "cell_type": "markdown",
   "metadata": {
    "id": "0pY4XX0OX9_Y"
   },
   "source": [
    "### Be concise"
   ]
  },
  {
   "cell_type": "markdown",
   "metadata": {
    "id": "xlRpxyxGYA1K"
   },
   "source": [
    "🛑 Not recommended. The prompt below is unnecessarily verbose."
   ]
  },
  {
   "cell_type": "code",
   "execution_count": 5,
   "metadata": {
    "id": "YKV4G-CfXdbi",
    "tags": []
   },
   "outputs": [
    {
     "data": {
      "text/markdown": [
       "Okay, here are some name ideas for a dried flower shop, categorized for different vibes:\n",
       "\n",
       "**Elegant & Sophisticated:**\n",
       "\n",
       "*   **The Everbloom Studio:** Sounds timeless and artistic.\n",
       "*   **Petrified Petals:** A bit edgy but hints at the preservation process.\n",
       "*   **Golden Still Life:** Evokes a sense of artistic beauty and permanence.\n",
       "*   **The Dried Daisy:** Simple, memorable, and elegant\n",
       "*   **The Preserved Posy:** Cute, alliterative, and speaks to the product.\n",
       "\n",
       "**Rustic & Natural:**\n",
       "\n",
       "*   **Wild & Withered:** Has a romantic, nature-inspired feel.\n",
       "*   **The Dusty Bloom:** Suggests a vintage, rustic aesthetic.\n",
       "*   **Prairie Petals:** If you source from or emulate prairie flowers.\n",
       "*   **The Seed & Stem:**  Simple, earthy, and evokes the origins of flowers.\n",
       "*   **Whispering Wheat:** Emphasizes the dried nature, especially if you use grains.\n",
       "\n",
       "**Modern & Minimalist:**\n",
       "\n",
       "*   **Still Life Flowers:** Clean and direct.\n",
       "*   **The Dried Flower Co.:** Simple and business-like.\n",
       "*   **Floral Echoes:** Suggests a lingering beauty.\n",
       "*   **Studio Dried:**  Short, punchy, and emphasizes the curated aspect.\n",
       "*   **Bloom Edit:** Suggests a curated selection of dried flowers.\n",
       "\n",
       "**Playful & Whimsical:**\n",
       "\n",
       "*   **The Blooming Bones:** A little quirky and memorable.\n",
       "*   **Forever Flora:** Emphasizes the longevity of dried flowers.\n",
       "*   **Petal & Paper:**  Suggests the dried texture and craft aspect.\n",
       "*   **The Thistle & Twig:** Creates a charming, storybook feel.\n",
       "*   **Bloom Box:** if you're selling in boxes.\n",
       "\n",
       "**Tips for Choosing a Name:**\n",
       "\n",
       "*   **Check Availability:** Make sure the name isn't already in use by another flower shop in your area and that the domain name is available.\n",
       "*   **Consider Your Target Audience:** Who are you trying to attract?  A younger, trendier audience might respond to a more modern name, while an older audience might prefer something more traditional.\n",
       "*   **Think About Your Branding:**  The name should align with the overall aesthetic of your shop and your brand.\n",
       "*   **Say it Out Loud:** Make sure the name is easy to pronounce and remember.\n",
       "*   **Get Feedback:** Ask friends, family, or potential customers what they think of your top choices.\n",
       "\n",
       "I hope this helps! Good luck with your flower shop!\n"
      ],
      "text/plain": [
       "<IPython.core.display.Markdown object>"
      ]
     },
     "metadata": {},
     "output_type": "display_data"
    }
   ],
   "source": [
    "prompt = \"What do you think could be a good name for a flower shop that specializes in selling bouquets of dried flowers more than fresh flowers?\"\n",
    "\n",
    "response = client.models.generate_content(model=MODEL_ID, contents=prompt)\n",
    "display(Markdown(response.text))"
   ]
  },
  {
   "cell_type": "markdown",
   "metadata": {
    "id": "YrJexRHJYnmC"
   },
   "source": [
    "✅ Recommended. The prompt below is to the point and concise."
   ]
  },
  {
   "cell_type": "code",
   "execution_count": 6,
   "metadata": {
    "id": "VHetn9lCYrXB",
    "tags": []
   },
   "outputs": [
    {
     "data": {
      "text/markdown": [
       "Okay, here are some name suggestions for a dried flower shop, categorized by vibe:\n",
       "\n",
       "**Elegant & Classic:**\n",
       "\n",
       "*   The Everlasting Bloom\n",
       "*   Dried & True\n",
       "*   Preserved Petals\n",
       "*   The Dried Bouquet\n",
       "*   Eternal Blooms\n",
       "*   The Conservatory Dry\n",
       "*   Golden Flora\n",
       "*   Withered Wonders\n",
       "\n",
       "**Modern & Minimalist:**\n",
       "\n",
       "*   Dry Goods Floral\n",
       "*   The Dried Stalk\n",
       "*   Still Life Flowers\n",
       "*   Dried Design\n",
       "*   The Floral Archive\n",
       "*   Dry Bloom\n",
       "*   Studio Dry\n",
       "*   Root & Stem (even though they are dried)\n",
       "\n",
       "**Whimsical & Playful:**\n",
       "\n",
       "*   The Never-Ending Garden\n",
       "*   Petal Pushers (Dried)\n",
       "*   Forever Flowers\n",
       "*   Dust & Bloom\n",
       "*   The Dried Fairy\n",
       "*   Sun Dried Florals\n",
       "\n",
       "**Location Specific:**\n",
       "\n",
       "*   (Your City/Town) Dried Flowers\n",
       "*   (Local Landmark) Florals\n",
       "*   (Street Name) Blooms\n",
       "\n",
       "**Rustic & Earthy:**\n",
       "\n",
       "*   Prairie Dried\n",
       "*   Field & Stem\n",
       "*   Harvest Blooms\n",
       "*   The Rustic Bloom\n",
       "*   Wildflower Dry\n",
       "*   Earthbound Florals\n",
       "*   Golden Grass\n",
       "*   Sun Bleached Florals\n",
       "\n",
       "**Tips for Choosing a Name:**\n",
       "\n",
       "*   **Availability:** Check if the name is available as a website domain and social media handle.\n",
       "*   **Target Audience:** Consider who you are trying to reach with your shop.  Does your name appeal to them?\n",
       "*   **Memorability:** Is it easy to remember and pronounce?\n",
       "*   **Branding:** Does the name fit the overall aesthetic and brand you want to create?\n",
       "\n",
       "**Bonus Tip:**  Say the names out loud!  See how they feel and sound. Good luck!\n"
      ],
      "text/plain": [
       "<IPython.core.display.Markdown object>"
      ]
     },
     "metadata": {},
     "output_type": "display_data"
    }
   ],
   "source": [
    "prompt = \"Suggest a name for a flower shop that sells bouquets of dried flowers\"\n",
    "\n",
    "response = client.models.generate_content(model=MODEL_ID, contents=prompt)\n",
    "display(Markdown(response.text))"
   ]
  },
  {
   "cell_type": "markdown",
   "metadata": {
    "id": "eXTAvdOHY0OC"
   },
   "source": [
    "### Be specific, and well-defined"
   ]
  },
  {
   "cell_type": "markdown",
   "metadata": {
    "id": "FTH4GEIgY1dp"
   },
   "source": [
    "Suppose that you want to brainstorm creative ways to describe Earth."
   ]
  },
  {
   "cell_type": "markdown",
   "metadata": {
    "id": "o5BmXBiGY4KC"
   },
   "source": [
    "🛑 The prompt below might be a bit too generic (which is certainly OK if you'd like to ask a generic question!)"
   ]
  },
  {
   "cell_type": "code",
   "execution_count": 7,
   "metadata": {
    "id": "eHBaMvv7Y6mR",
    "tags": []
   },
   "outputs": [
    {
     "data": {
      "text/markdown": [
       "Okay, let's dive into the fascinating subject of Earth! Here's a breakdown of key aspects:\n",
       "\n",
       "**Overview:**\n",
       "\n",
       "*   **Our Home:** Earth is the third planet from the Sun and the only known celestial body to harbor life.\n",
       "*   **Part of the Solar System:** It resides in the Solar System, which is located in the Orion Arm of the Milky Way galaxy.\n",
       "*   **Age:** Estimated to be around 4.54 billion years old.\n",
       "*   **Shape:** An oblate spheroid (slightly flattened at the poles and bulging at the equator).\n",
       "*   **Symbol:** ⊕\n",
       "\n",
       "**Key Physical Characteristics:**\n",
       "\n",
       "*   **Size:**\n",
       "    *   Equatorial Radius: 6,378.1 kilometers (3,963.2 miles)\n",
       "    *   Polar Radius: 6,356.8 kilometers (3,949.0 miles)\n",
       "    *   Equatorial Circumference: 40,075 kilometers (24,901 miles)\n",
       "*   **Mass:** 5.972 × 10^24 kg\n",
       "*   **Density:** 5.514 g/cm³ (the densest planet in the Solar System)\n",
       "*   **Rotation:** Rotates on its axis once every 23 hours, 56 minutes, and 4 seconds (approximately 24 hours, defining our day). The tilt of Earth's axis (about 23.5 degrees) is responsible for the seasons.\n",
       "*   **Revolution:** Orbits the Sun once every 365.25 days (approximately one year). The extra .25 days are accounted for by leap years.\n",
       "*   **Atmosphere:**\n",
       "    *   Primarily composed of nitrogen (78%) and oxygen (21%), with trace amounts of argon, carbon dioxide, and other gases.\n",
       "    *   The atmosphere protects us from harmful solar radiation and regulates the planet's temperature.\n",
       "*   **Surface:**\n",
       "    *   71% covered by water (oceans, seas, lakes, rivers, ice).\n",
       "    *   29% land, consisting of continents and islands.\n",
       "*   **Internal Structure:**\n",
       "    *   **Crust:** The outermost layer, relatively thin and rocky. It's divided into tectonic plates that move and interact, causing earthquakes, volcanoes, and mountain formation.\n",
       "    *   **Mantle:** A thick, mostly solid layer beneath the crust, composed of silicate rocks rich in iron and magnesium.\n",
       "    *   **Outer Core:** A liquid layer composed mainly of iron and nickel. The movement of this liquid generates Earth's magnetic field.\n",
       "    *   **Inner Core:** A solid sphere composed primarily of iron and nickel, under immense pressure.\n",
       "*   **Magnetic Field:** Generated by the movement of molten iron in the outer core. It protects Earth from harmful solar wind.\n",
       "*   **Temperature:** Varies widely depending on location and season. The average global surface temperature is around 15°C (59°F).\n",
       "*   **Water:** Exists in all three states (solid, liquid, gas) and is essential for life as we know it.\n",
       "\n",
       "**Life and Biosphere:**\n",
       "\n",
       "*   **Biodiversity:** Earth is home to an incredible diversity of life, from microscopic organisms to giant whales and towering trees.\n",
       "*   **Ecosystems:** Diverse ecosystems exist, each with its unique set of organisms and interactions (e.g., rainforests, deserts, coral reefs).\n",
       "*   **Humans:** Humans are the dominant species on Earth, significantly impacting the planet's environment.\n",
       "*   **Biosphere:** The part of Earth where life exists, including the atmosphere, lithosphere (land), and hydrosphere (water).\n",
       "\n",
       "**Moon (Natural Satellite):**\n",
       "\n",
       "*   Earth has one natural satellite, the Moon.\n",
       "*   It's believed to have formed from debris resulting from a giant impact between Earth and a Mars-sized object early in the Solar System's history.\n",
       "*   The Moon influences Earth's tides and stabilizes the planet's axial tilt.\n",
       "\n",
       "**Plate Tectonics:**\n",
       "\n",
       "*   Earth's lithosphere is divided into several large and small tectonic plates.\n",
       "*   These plates are constantly moving, driven by convection currents in the mantle.\n",
       "*   Plate tectonics are responsible for many geological phenomena, including:\n",
       "    *   Earthquakes\n",
       "    *   Volcanoes\n",
       "    *   Mountain building\n",
       "    *   Continental drift\n",
       "\n",
       "**Earth's Place in the Solar System:**\n",
       "\n",
       "*   It's the third planet from the Sun, situated within the \"habitable zone\" (also known as the \"Goldilocks zone\"), where temperatures are suitable for liquid water to exist on the surface.\n",
       "*   It is positioned between Venus and Mars.\n",
       "*   Earth is the largest of the four inner, rocky planets (Mercury, Venus, Earth, and Mars).\n",
       "\n",
       "**Unique Aspects:**\n",
       "\n",
       "*   **Liquid Water:** The abundance of liquid water on the surface is a unique characteristic among the planets in our Solar System and is essential for life.\n",
       "*   **Plate Tectonics:** Earth is the only planet in our Solar System known to have active plate tectonics.\n",
       "*   **Oxygen-Rich Atmosphere:** The high concentration of oxygen in Earth's atmosphere is a result of photosynthesis by plants and algae.\n",
       "*   **Life:** The existence of life is, as far as we know, unique to Earth.\n",
       "\n",
       "**Human Impact:**\n",
       "\n",
       "*   Human activities have a significant impact on Earth's environment.\n",
       "*   Key concerns include:\n",
       "    *   Climate change (due to greenhouse gas emissions)\n",
       "    *   Deforestation\n",
       "    *   Pollution (air, water, and land)\n",
       "    *   Loss of biodiversity\n",
       "*   Sustainable practices are crucial for preserving Earth's environment for future generations.\n",
       "\n",
       "**Ongoing Research and Exploration:**\n",
       "\n",
       "*   Scientists continue to study Earth to understand its past, present, and future.\n",
       "*   Space missions and remote sensing technologies provide valuable data about the planet's atmosphere, oceans, land, and interior.\n",
       "*   Research efforts focus on:\n",
       "    *   Climate change\n",
       "    *   Natural disasters\n",
       "    *   Resource management\n",
       "    *   The search for life beyond Earth\n",
       "\n",
       "**In Summary:**\n",
       "\n",
       "Earth is a dynamic and complex planet, characterized by its unique combination of features that support life. Understanding Earth's processes and our impact on them is crucial for ensuring its long-term sustainability.\n"
      ],
      "text/plain": [
       "<IPython.core.display.Markdown object>"
      ]
     },
     "metadata": {},
     "output_type": "display_data"
    }
   ],
   "source": [
    "prompt = \"Tell me about Earth\"\n",
    "\n",
    "response = client.models.generate_content(model=MODEL_ID, contents=prompt)\n",
    "display(Markdown(response.text))"
   ]
  },
  {
   "cell_type": "markdown",
   "metadata": {
    "id": "4iyvEbteZnFL"
   },
   "source": [
    "✅ Recommended. The prompt below is specific and well-defined."
   ]
  },
  {
   "cell_type": "code",
   "execution_count": 8,
   "metadata": {
    "id": "JQ80z8urZnne",
    "tags": []
   },
   "outputs": [
    {
     "data": {
      "text/markdown": [
       "Okay, here's a list of things that make Earth unique (or at least, highly unusual) compared to other planets we know of, focusing on what sets it apart:\n",
       "\n",
       "**Key Features Supporting Life & Conditions**\n",
       "\n",
       "*   **Liquid Water on the Surface:** This is arguably the most significant. Earth is the only known planet in our solar system with stable bodies of liquid water on its surface. Water is essential for life as we know it, acting as a solvent, a transport medium, and participating in crucial biochemical reactions.\n",
       "*   **Oxygen-Rich Atmosphere:** Earth's atmosphere is about 21% oxygen, a byproduct of photosynthesis by plants and algae. Most other planets have atmospheres dominated by carbon dioxide, nitrogen, or hydrogen, with very little free oxygen. This oxygen is crucial for complex, energy-intensive life forms like animals.\n",
       "*   **Plate Tectonics:** Earth's crust is divided into moving plates. This process recycles materials between the Earth's interior and surface, helps regulate temperature and the carbon cycle, and is linked to the formation of continents and mountain ranges. Plate tectonics is not definitively confirmed on other planets in our solar system.\n",
       "*   **A Strong Magnetic Field:** Generated by the Earth's iron core, the magnetic field deflects harmful solar wind and cosmic radiation, protecting the atmosphere and surface life.\n",
       "*   **Ozone Layer:** A layer in the stratosphere that absorbs most of the Sun's harmful ultraviolet (UV) radiation, making the surface habitable.\n",
       "*   **Relatively Stable Axial Tilt:** Earth's axial tilt (obliquity) is relatively stable due to the presence of the Moon. This stable tilt results in predictable and moderate seasons, which are conducive to life. Planets with highly variable axial tilts can experience extreme climate swings.\n",
       "*   **Habitable Zone Location:** Earth orbits the Sun at a distance that allows for liquid water to exist on its surface – not too hot, not too cold. This region around a star is called the habitable zone or Goldilocks zone.\n",
       "*   **Complex Ecosystems & Biodiversity:** Earth is the only planet we know of with a vast and diverse range of life, from microscopic bacteria to giant whales, interacting in complex ecosystems.\n",
       "*   **Presence of a Large Moon:** Our Moon is unusually large compared to Earth. It stabilizes our axial tilt, influences tides, and may have played a role in the early development of life.\n",
       "\n",
       "**Other Notable Differences:**\n",
       "\n",
       "*   **Surface Composition:** While other planets have rocky surfaces, Earth's composition is unique in its specific blend of minerals, water, and other materials.\n",
       "*   **Albedo:** Earth has a specific albedo (reflectivity) that influences how much solar energy it absorbs. The presence of clouds, ice, and vegetation contributes to this albedo.\n",
       "*   **Age and Geological History:** Earth has a long and complex geological history, shaped by various processes over billions of years. This history has influenced the planet's current state and its suitability for life.\n",
       "*   **Active Hydrological Cycle:** Earth has a dynamic water cycle, involving evaporation, condensation, precipitation, and runoff. This cycle redistributes heat, shapes landscapes, and is vital for life.\n",
       "\n",
       "**Important Considerations:**\n",
       "\n",
       "*   **Our Limited Knowledge:** We have only extensively studied a very small number of planets, primarily those in our own solar system and a small fraction of exoplanets. It's possible that planets with similar characteristics to Earth exist elsewhere in the universe, but we haven't found them yet.\n",
       "*   **Definition of \"Unique\":** Some of these features might exist to some degree on other planets, but the combination of all of them, in the right balance, is what makes Earth truly special.\n",
       "*   **Changing Understanding:** Our understanding of planetary science is constantly evolving, and new discoveries may challenge or refine this list in the future.\n",
       "\n",
       "In summary, Earth's unique combination of liquid water, an oxygen-rich atmosphere, plate tectonics, a strong magnetic field, a stable climate, and a location in the habitable zone makes it a very special place in the universe – at least, as far as we know right now.\n"
      ],
      "text/plain": [
       "<IPython.core.display.Markdown object>"
      ]
     },
     "metadata": {},
     "output_type": "display_data"
    }
   ],
   "source": [
    "prompt = \"Generate a list of ways that makes Earth unique compared to other planets\"\n",
    "\n",
    "response = client.models.generate_content(model=MODEL_ID, contents=prompt)\n",
    "display(Markdown(response.text))"
   ]
  },
  {
   "cell_type": "markdown",
   "metadata": {
    "id": "R5kmfZYHZsJ7"
   },
   "source": [
    "### Ask one task at a time"
   ]
  },
  {
   "cell_type": "markdown",
   "metadata": {
    "id": "rsAezxeYZuUN"
   },
   "source": [
    "🛑 Not recommended. The prompt below has two parts to the question that could be asked separately."
   ]
  },
  {
   "cell_type": "code",
   "execution_count": 9,
   "metadata": {
    "id": "ElywPXpuZtWf",
    "tags": []
   },
   "outputs": [
    {
     "data": {
      "text/markdown": [
       "Let's tackle these two very different questions:\n",
       "\n",
       "**Best Method of Boiling Water**\n",
       "\n",
       "There isn't a single \"best\" method, as it depends on your priorities and resources. Here's a breakdown:\n",
       "\n",
       "*   **Fastest:**\n",
       "    *   **Electric Kettle:**  Generally the fastest for small to medium quantities of water (up to a liter or two).  They are designed specifically for boiling water, and efficiency is a priority.\n",
       "*   **Most Energy Efficient (for small amounts):**\n",
       "    *   **Electric Kettle:** Again, the electric kettle often wins for small amounts because all the energy is directly heating the water, with minimal loss.\n",
       "*   **Most Energy Efficient (for larger amounts):**\n",
       "    *   **Induction Cooktop:**  Induction is highly efficient because it directly heats the pot itself, not the surrounding air. This minimizes energy loss.\n",
       "*   **Most Convenient (for some situations):**\n",
       "    *   **Microwave:**  Convenient for very small amounts (a cup or two) and for quick heating.  However, it's generally not as efficient as other methods and can be uneven.  It can also be dangerous if you superheat the water (see below).\n",
       "*   **Most Versatile (for general cooking):**\n",
       "    *   **Stovetop (Gas or Electric):**  Good for boiling water as part of cooking, when you already have the stovetop on.  Gas is often faster to heat up, but electric can be more evenly heated, especially flat glass cooktops.\n",
       "*   **Off-Grid:**\n",
       "    *   **Campfire/Wood Stove:**  Obviously, necessary when electricity or gas isn't available.\n",
       "\n",
       "**Important Considerations:**\n",
       "\n",
       "*   **Quantity:**  The best method for a single cup of tea is different from the best method for a large pot of pasta water.\n",
       "*   **Safety:** Always use caution when handling hot water.\n",
       "*   **Superheating:** Microwaving water can sometimes lead to *superheating*. The water becomes hotter than its boiling point without actually boiling. When you disturb it (e.g., add a spoon), it can erupt violently.  Add a wooden spoon or chopstick when microwaving to allow for even heating.\n",
       "\n",
       "**Why is the Sky Blue?**\n",
       "\n",
       "The sky is blue due to a phenomenon called **Rayleigh scattering.** Here's a simplified explanation:\n",
       "\n",
       "1.  **Sunlight and the Atmosphere:** Sunlight is made up of all the colors of the rainbow. When sunlight enters the Earth's atmosphere, it collides with tiny air molecules (mostly nitrogen and oxygen).\n",
       "\n",
       "2.  **Scattering of Light:** This collision causes the light to scatter in different directions.\n",
       "\n",
       "3.  **Blue Light is Scattered More:** Blue and violet light have shorter wavelengths compared to other colors. Shorter wavelengths are scattered *much* more effectively by these tiny air molecules than longer wavelengths like red and orange. Rayleigh scattering is inversely proportional to the fourth power of the wavelength.  This means if the wavelength is halved, the scattering is 16 times stronger (2^4 = 16).\n",
       "\n",
       "4.  **Why not Violet?** Although violet light is scattered even *more* than blue, there are a few reasons why we see a blue sky:\n",
       "\n",
       "    *   The sun emits slightly less violet light than blue light.\n",
       "    *   Our eyes are more sensitive to blue light than violet light.\n",
       "    *   The upper atmosphere absorbs some of the violet light.\n",
       "\n",
       "5.  **What About Sunsets?** At sunrise and sunset, the sunlight has to travel through a much greater distance of the atmosphere to reach our eyes. As it travels, most of the blue light is scattered away. This leaves the longer wavelengths like orange and red to dominate, creating beautiful sunset colors.\n",
       "\n",
       "**In short:** Blue light is scattered more than other colors by the air molecules in the atmosphere, making the sky appear blue from our perspective.\n"
      ],
      "text/plain": [
       "<IPython.core.display.Markdown object>"
      ]
     },
     "metadata": {},
     "output_type": "display_data"
    }
   ],
   "source": [
    "prompt = \"What's the best method of boiling water and why is the sky blue?\"\n",
    "\n",
    "response = client.models.generate_content(model=MODEL_ID, contents=prompt)\n",
    "display(Markdown(response.text))"
   ]
  },
  {
   "cell_type": "markdown",
   "metadata": {
    "id": "ejzahazBZ8vk"
   },
   "source": [
    "✅ Recommended. The prompts below asks one task a time."
   ]
  },
  {
   "cell_type": "code",
   "execution_count": 10,
   "metadata": {
    "id": "C5ckp2F0Z_Ba",
    "tags": []
   },
   "outputs": [
    {
     "data": {
      "text/markdown": [
       "There's no single \"best\" method for boiling water, as the ideal approach depends on factors like:\n",
       "\n",
       "*   **Speed:** How quickly do you need the water to boil?\n",
       "*   **Energy Efficiency:** How much electricity or fuel do you want to use?\n",
       "*   **Convenience:** How easy is the method to use and clean?\n",
       "*   **Quantity:** How much water do you need to boil?\n",
       "*   **Accessibility:** What equipment do you have available?\n",
       "\n",
       "Here's a breakdown of common methods and their pros and cons:\n",
       "\n",
       "**1. Electric Kettle:**\n",
       "\n",
       "*   **Pros:**\n",
       "    *   **Fast:** Generally the fastest way to boil small to medium amounts of water.\n",
       "    *   **Efficient:** Uses only the amount of energy needed.  Many have auto shut-off.\n",
       "    *   **Convenient:** Easy to use, often with one-button operation.\n",
       "    *   **Safe:** Typically has automatic shut-off to prevent boiling dry.\n",
       "*   **Cons:**\n",
       "    *   Limited capacity.\n",
       "    *   Requires an electrical outlet.\n",
       "\n",
       "**2. Stovetop Kettle:**\n",
       "\n",
       "*   **Pros:**\n",
       "    *   **Versatile:** Can be used on gas, electric, or induction stoves.\n",
       "    *   **Large capacity:** Can boil larger amounts of water compared to electric kettles.\n",
       "    *   **Durable:** Typically lasts a long time.\n",
       "*   **Cons:**\n",
       "    *   **Slower** than electric kettles.\n",
       "    *   **Less efficient** than electric kettles, as heat is lost to the surrounding air.\n",
       "    *   Requires monitoring to prevent boiling dry.\n",
       "\n",
       "**3. Stovetop Pot (without a lid):**\n",
       "\n",
       "*   **Pros:**\n",
       "    *   **Most basic:** Requires only a pot and a heat source.\n",
       "    *   **Large capacity:** Can boil very large amounts of water.\n",
       "*   **Cons:**\n",
       "    *   **Slowest** method.\n",
       "    *   **Least efficient:** Significant heat loss.\n",
       "    *   **Evaporation:**  More water evaporates, which can be an issue if you need a specific amount.\n",
       "\n",
       "**4. Stovetop Pot (with a lid):**\n",
       "\n",
       "*   **Pros:**\n",
       "    *   **Faster and more efficient** than boiling in a pot without a lid.\n",
       "    *   **Reduces evaporation.**\n",
       "*   **Cons:**\n",
       "    *   Still slower and less efficient than electric kettles.\n",
       "    *   Requires monitoring.\n",
       "\n",
       "**5. Microwave:**\n",
       "\n",
       "*   **Pros:**\n",
       "    *   **Fast:** Can be quick for small amounts of water.\n",
       "    *   **Convenient:** Easy to use.\n",
       "*   **Cons:**\n",
       "    *   **Uneven heating:** Can result in superheated water, which can violently erupt when disturbed. **Always use a microwave-safe container and never boil water in a sealed container.** Use a wooden or plastic utensil inside the container to disturb the water before removing it.\n",
       "    *   **Less efficient** than electric kettles.\n",
       "    *   Not ideal for large amounts of water.\n",
       "\n",
       "**Summary Table:**\n",
       "\n",
       "| Method          | Speed     | Efficiency | Convenience | Capacity | Notes                                                                                                    |\n",
       "|-----------------|-----------|------------|-------------|----------|----------------------------------------------------------------------------------------------------------|\n",
       "| Electric Kettle | Fastest    | Highest     | Highest      | Small-Med| Ideal for quick, efficient boiling of smaller amounts.                                                  |\n",
       "| Stovetop Kettle | Medium     | Medium      | Medium       | Med-Large| Good balance of speed and capacity.                                                                     |\n",
       "| Pot (with lid)  | Medium-Slow| Medium      | Low          | Large    | Suitable for larger amounts, but slower and less efficient.                                            |\n",
       "| Pot (no lid)    | Slowest    | Lowest      | Low          | Large    | Least efficient, should only be used if no other option is available.                                   |\n",
       "| Microwave       | Fast      | Low         | High         | Small    | Use with caution due to potential for superheating. Only for small amounts of water.                      |\n",
       "\n",
       "**Recommendations:**\n",
       "\n",
       "*   **For everyday use, quick cups of tea/coffee:** An **electric kettle** is generally the best choice due to its speed, efficiency, and convenience.\n",
       "*   **For larger quantities of water or when an electrical outlet isn't available:** A **stovetop kettle** is a good option.\n",
       "*   **If you only need to boil a very small amount and are in a hurry:** A **microwave** *can* be used, but with caution.  Stir the water afterwards to prevent eruptions.\n",
       "*   **In a pinch, or if you need a *very* large quantity:** A **stovetop pot with a lid** will work.\n"
      ],
      "text/plain": [
       "<IPython.core.display.Markdown object>"
      ]
     },
     "metadata": {},
     "output_type": "display_data"
    }
   ],
   "source": [
    "prompt = \"What's the best method of boiling water?\"\n",
    "\n",
    "response = client.models.generate_content(model=MODEL_ID, contents=prompt)\n",
    "display(Markdown(response.text))"
   ]
  },
  {
   "cell_type": "code",
   "execution_count": 11,
   "metadata": {
    "id": "KwUzhud4aA89",
    "tags": []
   },
   "outputs": [
    {
     "data": {
      "text/markdown": [
       "The sky is blue because of a phenomenon called **Rayleigh scattering**. Here's a breakdown of the process:\n",
       "\n",
       "*   **Sunlight enters the Earth's atmosphere:** Sunlight is composed of all the colors of the rainbow.\n",
       "\n",
       "*   **Light collides with air molecules:** The atmosphere is made up of gases like nitrogen and oxygen. When sunlight enters the atmosphere, it collides with these tiny air molecules.\n",
       "\n",
       "*   **Scattering of light:** This collision causes the light to scatter in different directions. This scattering is more effective for shorter wavelengths of light. Blue and violet light have shorter wavelengths compared to other colors like red and orange.\n",
       "\n",
       "*   **Blue light scatters the most:** Because blue and violet light have shorter wavelengths, they are scattered much more strongly than other colors. Violet is scattered even more than blue, but our eyes are more sensitive to blue light and the sun emits less violet light to begin with.\n",
       "\n",
       "*   **Why not violet?** While violet light is scattered even *more* than blue light, several factors contribute to why we perceive the sky as blue rather than violet:\n",
       "    *   **The sun emits less violet light:** The sun's spectrum contains less violet light compared to blue light.\n",
       "    *   **Our eyes are less sensitive to violet:** The human eye is less sensitive to violet light than it is to blue light.\n",
       "    *   **Atmospheric absorption:** Some violet light is absorbed by the upper atmosphere.\n",
       "\n",
       "*   **Reaching our eyes:** The scattered blue light reaches our eyes from all directions, making the sky appear blue.\n",
       "\n",
       "**In summary:** Sunlight interacts with air molecules in the atmosphere, causing the shorter wavelengths of blue light to scatter more effectively. This scattered blue light is what we see when we look at the sky.\n"
      ],
      "text/plain": [
       "<IPython.core.display.Markdown object>"
      ]
     },
     "metadata": {},
     "output_type": "display_data"
    }
   ],
   "source": [
    "prompt = \"Why is the sky blue?\"\n",
    "\n",
    "response = client.models.generate_content(model=MODEL_ID, contents=prompt)\n",
    "display(Markdown(response.text))"
   ]
  },
  {
   "cell_type": "markdown",
   "metadata": {
    "id": "PJIL2RTQaGcT"
   },
   "source": [
    "### Watch out for hallucinations"
   ]
  },
  {
   "cell_type": "markdown",
   "metadata": {
    "id": "8Y8kYxrSaHE9"
   },
   "source": [
    "Although LLMs have been trained on a large amount of data, they can generate text containing statements not grounded in truth or reality; these responses from the LLM are often referred to as \"hallucinations\" due to their limited memorization capabilities. Note that simply prompting the LLM to provide a citation isn't a fix to this problem, as there are instances of LLMs providing false or inaccurate citations. Dealing with hallucinations is a fundamental challenge of LLMs and an ongoing research area, so it is important to be cognizant that LLMs may seem to give you confident, correct-sounding statements that are in fact incorrect.\n",
    "\n",
    "Note that if you intend to use LLMs for the creative use cases, hallucinating could actually be quite useful."
   ]
  },
  {
   "cell_type": "markdown",
   "metadata": {
    "id": "8NY5nAGeaJYS"
   },
   "source": [
    "Try the prompt like the one below repeatedly. We set the temperature to `1.0` so that it takes more risks in its choices. It's possible that it may provide an inaccurate, but confident answer."
   ]
  },
  {
   "cell_type": "code",
   "execution_count": 12,
   "metadata": {
    "id": "QALPjEILaM62",
    "tags": []
   },
   "outputs": [
    {
     "data": {
      "text/markdown": [
       "I am a large language model, so I don't know what day it is today.\n"
      ],
      "text/plain": [
       "<IPython.core.display.Markdown object>"
      ]
     },
     "metadata": {},
     "output_type": "display_data"
    }
   ],
   "source": [
    "generation_config = GenerateContentConfig(temperature=1.0)\n",
    "\n",
    "prompt = \"What day is it today?\"\n",
    "\n",
    "response = client.models.generate_content(model=MODEL_ID, contents=prompt)\n",
    "display(Markdown(response.text))"
   ]
  },
  {
   "cell_type": "markdown",
   "metadata": {
    "id": "BRkwzbgRbhKt"
   },
   "source": [
    "Since LLMs do not have access to real-time information without further integrations, you may have noticed it hallucinates what day it is today in some of the outputs."
   ]
  },
  {
   "cell_type": "markdown",
   "metadata": {
    "id": "3c811e310d02"
   },
   "source": [
    "### Using system instructions to guardrail the model from irrelevant responses\n",
    "\n",
    "How can we attempt to reduce the chances of irrelevant responses and hallucinations?\n",
    "\n",
    "One way is to provide the LLM with [system instructions](https://cloud.google.com/vertex-ai/generative-ai/docs/multimodal/send-chat-prompts-gemini#system-instructions).\n",
    "\n",
    "Let's see how system instructions works and how you can use them to reduce hallucinations or irrelevant questions for a travel chatbot.\n",
    "\n",
    "Suppose we ask a simple question about one of Italy's most famous tourist spots."
   ]
  },
  {
   "cell_type": "code",
   "execution_count": 13,
   "metadata": {
    "id": "rB6zJU76biFK",
    "tags": []
   },
   "outputs": [
    {
     "data": {
      "text/markdown": [
       "The Duomo di Milano is the most famous place for sightseeing in Milan, Italy.\n"
      ],
      "text/plain": [
       "<IPython.core.display.Markdown object>"
      ]
     },
     "metadata": {},
     "output_type": "display_data"
    }
   ],
   "source": [
    "generation_config = GenerateContentConfig(temperature=1.0)\n",
    "\n",
    "chat = client.chats.create(\n",
    "    model=MODEL_ID,\n",
    "    config=GenerateContentConfig(\n",
    "        system_instruction=[\n",
    "            \"Hello! You are an AI chatbot for a travel web site.\",\n",
    "            \"Your mission is to provide helpful queries for travelers.\",\n",
    "            \"Remember that before you answer a question, you must check to see if it complies with your mission.\",\n",
    "            \"If not, you can say, Sorry I can't answer that question.\",\n",
    "        ]\n",
    "    ),\n",
    ")\n",
    "\n",
    "prompt = \"What is the best place for sightseeing in Milan, Italy?\"\n",
    "\n",
    "response = chat.send_message(prompt)\n",
    "display(Markdown(response.text))"
   ]
  },
  {
   "cell_type": "markdown",
   "metadata": {
    "id": "WZa-Qcf9cF4A"
   },
   "source": [
    "Now let us pretend to be a user asks the chatbot a question that is unrelated to travel."
   ]
  },
  {
   "cell_type": "code",
   "execution_count": 14,
   "metadata": {
    "id": "AZKBIDr2cGnu",
    "tags": []
   },
   "outputs": [
    {
     "data": {
      "text/markdown": [
       "Sure, I can help you with that!\n",
       "The Duomo di Milano, Santa Maria delle Grazie, Galleria Vittorio Emanuele II, Teatro alla Scala, Pinacoteca di Brera, Castello Sforzesco, Navigli District, and the San Siro Stadium are all great places for sightseeing in Milan, Italy.\n"
      ],
      "text/plain": [
       "<IPython.core.display.Markdown object>"
      ]
     },
     "metadata": {},
     "output_type": "display_data"
    }
   ],
   "source": [
    "prompt = \"What is the best place for sightseeing in Milan, Italy?\"\n",
    "\n",
    "response = chat.send_message(prompt)\n",
    "display(Markdown(response.text))"
   ]
  },
  {
   "cell_type": "markdown",
   "metadata": {
    "id": "JiUYIhwpctCy"
   },
   "source": [
    "You can see that this way, a guardrail in the prompt prevented the chatbot from veering off course."
   ]
  },
  {
   "cell_type": "markdown",
   "metadata": {
    "id": "ZuuDhA37cvmP"
   },
   "source": [
    "### Turn generative tasks into classification tasks to reduce output variability"
   ]
  },
  {
   "cell_type": "markdown",
   "metadata": {
    "id": "kUCUrsUzczmb"
   },
   "source": [
    "#### Generative tasks lead to higher output variability"
   ]
  },
  {
   "cell_type": "markdown",
   "metadata": {
    "id": "a1xASHAkc46n"
   },
   "source": [
    "The prompt below results in an open-ended response, useful for brainstorming, but response is highly variable."
   ]
  },
  {
   "cell_type": "code",
   "execution_count": 15,
   "metadata": {
    "id": "nPfXQWIacwRf",
    "tags": []
   },
   "outputs": [
    {
     "data": {
      "text/markdown": [
       "Okay, here are a few programming activities, tailored for a high school student looking to improve their skills, categorized by difficulty and focusing on different areas:\n",
       "\n",
       "**Beginner-Friendly (Focus on fundamentals and problem-solving):**\n",
       "\n",
       "*   **1. Text-Based Adventure Game:**\n",
       "\n",
       "    *   **Concept:** Create a simple text-based adventure game where the user makes choices and the program responds accordingly.\n",
       "    *   **Skills Reinforced:**\n",
       "        *   `if/else` statements\n",
       "        *   `input/output`\n",
       "        *   Variables\n",
       "        *   Functions (to organize game logic)\n",
       "        *   Basic string manipulation\n",
       "    *   **Languages:** Python (easiest to start), Java (slightly more complex, good for learning object-oriented concepts)\n",
       "    *   **Example:** \"You are in a dark forest. Do you go left (L) or right (R)?\"  Based on the user's input ('L' or 'R'), the program progresses the story.\n",
       "    *   **Progression:** Add inventory management, combat, puzzles, and multiple endings.\n",
       "\n",
       "*   **2. Simple Calculator:**\n",
       "\n",
       "    *   **Concept:** Build a calculator that can perform basic arithmetic operations (+, -, *, /).\n",
       "    *   **Skills Reinforced:**\n",
       "        *   `input/output`\n",
       "        *   Variables (numbers, operators)\n",
       "        *   `if/else` or `switch` statements (to determine which operation to perform)\n",
       "        *   Error handling (division by zero)\n",
       "    *   **Languages:** Python, Java, C++ (if you want to learn about data types in more detail)\n",
       "    *   **Progression:** Add more advanced functions (square root, exponents, trigonometric functions), handle more complex expressions (using order of operations).\n",
       "\n",
       "*   **3. Number Guessing Game:**\n",
       "\n",
       "    *   **Concept:** The computer generates a random number, and the user has to guess it.  The program provides feedback (\"Too high,\" \"Too low\").\n",
       "    *   **Skills Reinforced:**\n",
       "        *   Random number generation\n",
       "        *   `input/output`\n",
       "        *   Loops (`while` loop to keep the game going)\n",
       "        *   `if/else` statements (for feedback)\n",
       "    *   **Languages:** Python, Java, C++\n",
       "\n",
       "**Intermediate (Building on fundamentals, introducing more complex concepts):**\n",
       "\n",
       "*   **4. To-Do List Application:**\n",
       "\n",
       "    *   **Concept:**  Create a program that allows the user to add, remove, and view tasks in a to-do list.\n",
       "    *   **Skills Reinforced:**\n",
       "        *   Data structures (lists, arrays)\n",
       "        *   `input/output`\n",
       "        *   Loops\n",
       "        *   Functions (to organize the application logic)\n",
       "        *   File I/O (optional, to save the to-do list to a file)\n",
       "    *   **Languages:** Python, Java, C++\n",
       "    *   **Progression:** Add features like task priorities, due dates, categories, and the ability to mark tasks as complete.  You could also explore using a GUI library (like Tkinter in Python or Swing in Java) to make it a visual application.\n",
       "\n",
       "*   **5. Simple Web Scraper:**\n",
       "\n",
       "    *   **Concept:** Write a program that retrieves data from a website. For example, scrape headlines from a news website.\n",
       "    *   **Skills Reinforced:**\n",
       "        *   HTTP requests (getting data from the web)\n",
       "        *   HTML parsing (extracting specific information from HTML code)\n",
       "        *   Regular expressions (optional, for more complex pattern matching)\n",
       "        *   Error handling\n",
       "    *   **Languages:** Python (using libraries like `requests` and `Beautiful Soup`), Java\n",
       "    *   **Important Note:** Be ethical and respectful of websites.  Check the website's `robots.txt` file to see if web scraping is allowed, and don't overload the server with too many requests.\n",
       "\n",
       "*   **6. Basic Game (e.g., Hangman, Tic-Tac-Toe):**\n",
       "\n",
       "    *   **Concept:** Implement a simple game with more complex logic than the number guessing game.\n",
       "    *   **Skills Reinforced:**\n",
       "        *   Arrays/Lists\n",
       "        *   Game logic implementation\n",
       "        *   `input/output`\n",
       "        *   Function decomposition\n",
       "        *   (If GUI) Basic event handling\n",
       "    *   **Languages:** Python (with Pygame or Tkinter), Java (with Swing), C++ (with SDL or SFML)\n",
       "    *   **Progression:** Add AI opponents (e.g., a Tic-Tac-Toe AI), improve the user interface, and add scoring.\n",
       "\n",
       "**Advanced (Challenging projects that introduce more advanced topics):**\n",
       "\n",
       "*   **7. Chatbot:**\n",
       "\n",
       "    *   **Concept:** Create a simple chatbot that can respond to user input.\n",
       "    *   **Skills Reinforced:**\n",
       "        *   Natural Language Processing (NLP) concepts (tokenization, stemming, intent recognition - even at a basic level)\n",
       "        *   Data structures (dictionaries for storing question-answer pairs)\n",
       "        *   String manipulation\n",
       "        *   API integration (optional, to connect to more advanced NLP services)\n",
       "    *   **Languages:** Python (using libraries like NLTK or spaCy), Java\n",
       "    *   **Progression:** Train the chatbot on a larger dataset of conversations, add more sophisticated NLP techniques, and integrate it with a messaging platform.\n",
       "\n",
       "*   **8. Data Analysis Project:**\n",
       "\n",
       "    *   **Concept:** Analyze a dataset (e.g., from Kaggle or a government website) to find trends and insights.\n",
       "    *   **Skills Reinforced:**\n",
       "        *   Data analysis libraries (e.g., Pandas in Python)\n",
       "        *   Data visualization (e.g., Matplotlib or Seaborn in Python)\n",
       "        *   Statistical concepts (mean, median, standard deviation)\n",
       "        *   Data cleaning and preprocessing\n",
       "    *   **Languages:** Python (the most common choice for data analysis)\n",
       "    *   **Progression:** Explore more complex statistical models, build machine learning models, and create interactive dashboards to visualize the data.\n",
       "\n",
       "*   **9.  Contribute to an Open-Source Project:**\n",
       "\n",
       "    *   **Concept:** Find a small, well-documented open-source project that you're interested in and contribute a bug fix or a new feature.\n",
       "    *   **Skills Reinforced:**\n",
       "        *   Version control (Git)\n",
       "        *   Collaboration\n",
       "        *   Reading and understanding existing code\n",
       "        *   Following coding standards\n",
       "    *   **Languages:** Depends on the project you choose.\n",
       "    *   **How to find projects:** Look on GitHub for projects labeled with \"good first issue\" or \"help wanted\".\n",
       "\n",
       "**General Tips for Success:**\n",
       "\n",
       "*   **Start Small:** Don't try to build the next Facebook right away. Break down your projects into smaller, manageable tasks.\n",
       "*   **Plan Before You Code:** Before you start writing code, take some time to think about the overall structure of your program and how the different parts will interact.  Use pseudocode or flowcharts to help you visualize your program.\n",
       "*   **Learn to Debug:** Debugging is a crucial skill. Learn how to use debugging tools (like print statements, debuggers) to find and fix errors in your code.\n",
       "*   **Use Online Resources:** Don't be afraid to Google your questions! There are tons of online resources available to help you learn programming, including tutorials, documentation, and forums.  Stack Overflow is your friend.\n",
       "*   **Practice Regularly:** The more you practice, the better you'll become at programming. Try to code every day, even if it's just for a few minutes.\n",
       "*   **Ask for Help:** Don't be afraid to ask for help from teachers, classmates, or online communities.  Explain your problem clearly and provide the code you've tried.\n",
       "*   **Stay Motivated:** Programming can be challenging, but it's also very rewarding.  Choose projects that you're interested in, and celebrate your successes along the way.\n",
       "\n",
       "To help me give you even better recommendations, tell me:\n",
       "\n",
       "*   **What languages are you already familiar with?**\n",
       "*   **What kind of projects appeal to you (games, web development, data analysis, etc.)?**\n",
       "\n",
       "Good luck, and have fun!\n"
      ],
      "text/plain": [
       "<IPython.core.display.Markdown object>"
      ]
     },
     "metadata": {},
     "output_type": "display_data"
    }
   ],
   "source": [
    "prompt = \"I'm a high school student. Recommend me a programming activity to improve my skills.\"\n",
    "\n",
    "response = client.models.generate_content(model=MODEL_ID, contents=prompt)\n",
    "display(Markdown(response.text))"
   ]
  },
  {
   "cell_type": "markdown",
   "metadata": {
    "id": "iAmm9wPYc_1o"
   },
   "source": [
    "#### Classification tasks reduces output variability"
   ]
  },
  {
   "cell_type": "markdown",
   "metadata": {
    "id": "VvRpK_0GdCpf"
   },
   "source": [
    "The prompt below results in a choice and may be useful if you want the output to be easier to control."
   ]
  },
  {
   "cell_type": "code",
   "execution_count": 16,
   "metadata": {
    "id": "kYDKh0r2dAqo",
    "tags": []
   },
   "outputs": [
    {
     "data": {
      "text/markdown": [
       "Okay, as a high school student looking to learn a programming language, I highly recommend **a) Learn Python**. Here's why:\n",
       "\n",
       "**Python is the Best Choice for Most High School Students:**\n",
       "\n",
       "*   **Beginner-Friendly:** Python's syntax is designed to be readable and easy to understand. It uses clear English-like keywords, which makes it much easier to pick up the fundamentals of programming without getting bogged down in complex syntax.\n",
       "\n",
       "*   **Versatile and Widely Used:** Python is used in a HUGE range of fields:\n",
       "    *   **Data Science:** Analyzing data, creating visualizations, machine learning, and AI are all areas where Python dominates.  This is a very hot and growing field.\n",
       "    *   **Web Development (Backend):** Building the server-side logic for websites and web applications.\n",
       "    *   **Game Development:** Prototyping games, creating game tools, and even building simple games.\n",
       "    *   **Scripting and Automation:** Automating tasks on your computer, writing scripts to manage files, etc.\n",
       "    *   **Education:** Many universities use Python as the introductory language for Computer Science programs.\n",
       "\n",
       "*   **Large and Supportive Community:**  There's a massive online community of Python developers. This means if you run into problems, you can easily find help on forums, Stack Overflow, Reddit, and other online resources. There are also tons of tutorials, courses, and documentation available.\n",
       "\n",
       "*   **Good for Academic Projects:** Python's versatility makes it great for school projects. You can use it for science simulations, data analysis for history projects, creating interactive presentations, and more.\n",
       "\n",
       "**Why not JavaScript or Fortran?**\n",
       "\n",
       "*   **JavaScript (b):**\n",
       "    *   **Good for Web Development (Frontend):**  JavaScript is essential for making websites interactive and dynamic (what you see and interact with in your browser).\n",
       "    *   **Can be more challenging for beginners:** While JS is very powerful, its concepts like the DOM (Document Object Model) and asynchronous programming can be a bit harder to grasp initially compared to Python. It's often better to learn the fundamentals of programming first with a more straightforward language.\n",
       "    *   **Best learned after a solid foundation:**  JavaScript is a great language to learn *after* you have a good understanding of programming concepts with a language like Python.\n",
       "\n",
       "*   **Fortran (c):**\n",
       "    *   **Specialized for Scientific and Engineering Computing:** Fortran is an older language that's still used in very specific niches, primarily high-performance scientific and engineering calculations.\n",
       "    *   **Not as widely applicable:**  Unless you know you want to go into a very specialized field where Fortran is common (like climate modeling or computational fluid dynamics), it's not the most practical choice for general programming skills.\n",
       "    *   **Smaller Community:** The community is smaller than Python or JavaScript.\n",
       "\n",
       "**In summary:**\n",
       "\n",
       "*   **Learn Python first.**  It will give you a solid foundation in programming principles and open doors to many different areas.\n",
       "*   Once you're comfortable with Python, **then consider learning JavaScript** if you're interested in web development.\n",
       "*   **Only learn Fortran** if you have a specific need for it in a scientific or engineering context.\n",
       "\n",
       "Good luck with your programming journey!\n"
      ],
      "text/plain": [
       "<IPython.core.display.Markdown object>"
      ]
     },
     "metadata": {},
     "output_type": "display_data"
    }
   ],
   "source": [
    "prompt = \"\"\"I'm a high school student. Which of these activities do you suggest and why:\n",
    "a) learn Python\n",
    "b) learn JavaScript\n",
    "c) learn Fortran\n",
    "\"\"\"\n",
    "\n",
    "response = client.models.generate_content(model=MODEL_ID, contents=prompt)\n",
    "display(Markdown(response.text))"
   ]
  },
  {
   "cell_type": "markdown",
   "metadata": {
    "id": "iTd60b1GdIsx"
   },
   "source": [
    "### Improve response quality by including examples"
   ]
  },
  {
   "cell_type": "markdown",
   "metadata": {
    "id": "yJi44NejdJYE"
   },
   "source": [
    "Another way to improve response quality is to add examples in your prompt. The LLM learns in-context from the examples on how to respond. Typically, one to five examples (shots) are enough to improve the quality of responses. Including too many examples can cause the model to over-fit the data and reduce the quality of responses.\n",
    "\n",
    "Similar to classical model training, the quality and distribution of the examples is very important. Pick examples that are representative of the scenarios that you need the model to learn, and keep the distribution of the examples (e.g. number of examples per class in the case of classification) aligned with your actual distribution."
   ]
  },
  {
   "cell_type": "markdown",
   "metadata": {
    "id": "sMbLginWdOKs"
   },
   "source": [
    "#### Zero-shot prompt"
   ]
  },
  {
   "cell_type": "markdown",
   "metadata": {
    "id": "Crh2Loi2dQ0v"
   },
   "source": [
    "Below is an example of zero-shot prompting, where you don't provide any examples to the LLM within the prompt itself."
   ]
  },
  {
   "cell_type": "code",
   "execution_count": 17,
   "metadata": {
    "id": "-7myRc-SdTQ4",
    "tags": []
   },
   "outputs": [
    {
     "data": {
      "text/markdown": [
       "Sentiment: Positive\n"
      ],
      "text/plain": [
       "<IPython.core.display.Markdown object>"
      ]
     },
     "metadata": {},
     "output_type": "display_data"
    }
   ],
   "source": [
    "prompt = \"\"\"Decide whether a Tweet's sentiment is positive, neutral, or negative.\n",
    "\n",
    "Tweet: I loved the new YouTube video you made!\n",
    "Sentiment:\n",
    "\"\"\"\n",
    "\n",
    "response = client.models.generate_content(model=MODEL_ID, contents=prompt)\n",
    "display(Markdown(response.text))"
   ]
  },
  {
   "cell_type": "markdown",
   "metadata": {
    "id": "ucRtPn9SdL64"
   },
   "source": [
    "#### One-shot prompt"
   ]
  },
  {
   "cell_type": "markdown",
   "metadata": {
    "id": "rs0gQH2vdYBi"
   },
   "source": [
    "Below is an example of one-shot prompting, where you provide one example to the LLM within the prompt to give some guidance on what type of response you want."
   ]
  },
  {
   "cell_type": "code",
   "execution_count": 18,
   "metadata": {
    "id": "iEq-KxGYdaT5",
    "tags": []
   },
   "outputs": [
    {
     "data": {
      "text/markdown": [
       "Sentiment: negative\n"
      ],
      "text/plain": [
       "<IPython.core.display.Markdown object>"
      ]
     },
     "metadata": {},
     "output_type": "display_data"
    }
   ],
   "source": [
    "prompt = \"\"\"Decide whether a Tweet's sentiment is positive, neutral, or negative.\n",
    "\n",
    "Tweet: I loved the new YouTube video you made!\n",
    "Sentiment: positive\n",
    "\n",
    "Tweet: That was awful. Super boring 😠\n",
    "Sentiment:\n",
    "\"\"\"\n",
    "\n",
    "response = client.models.generate_content(model=MODEL_ID, contents=prompt)\n",
    "display(Markdown(response.text))"
   ]
  },
  {
   "cell_type": "markdown",
   "metadata": {
    "id": "JnKLjJzmdfL_"
   },
   "source": [
    "#### Few-shot prompt"
   ]
  },
  {
   "cell_type": "markdown",
   "metadata": {
    "id": "6Zv-9F5OdgI_"
   },
   "source": [
    "Below is an example of few-shot prompting, where you provide a few examples to the LLM within the prompt to give some guidance on what type of response you want."
   ]
  },
  {
   "cell_type": "code",
   "execution_count": 19,
   "metadata": {
    "id": "u37P9tG4dk9S",
    "tags": []
   },
   "outputs": [
    {
     "data": {
      "text/markdown": [
       "Sentiment: positive\n"
      ],
      "text/plain": [
       "<IPython.core.display.Markdown object>"
      ]
     },
     "metadata": {},
     "output_type": "display_data"
    }
   ],
   "source": [
    "prompt = \"\"\"Decide whether a Tweet's sentiment is positive, neutral, or negative.\n",
    "\n",
    "Tweet: I loved the new YouTube video you made!\n",
    "Sentiment: positive\n",
    "\n",
    "Tweet: That was awful. Super boring 😠\n",
    "Sentiment: negative\n",
    "\n",
    "Tweet: Something surprised me about this video - it was actually original. It was not the same old recycled stuff that I always see. Watch it - you will not regret it.\n",
    "Sentiment:\n",
    "\"\"\"\n",
    "\n",
    "response = client.models.generate_content(model=MODEL_ID, contents=prompt)\n",
    "display(Markdown(response.text))"
   ]
  },
  {
   "cell_type": "markdown",
   "metadata": {
    "id": "wDMD3xb2dvX6"
   },
   "source": [
    "#### Choosing between zero-shot, one-shot, few-shot prompting methods"
   ]
  },
  {
   "cell_type": "markdown",
   "metadata": {
    "id": "s92W0YpNdxJp"
   },
   "source": [
    "Which prompt technique to use will solely depends on your goal. The zero-shot prompts are more open-ended and can give you creative answers, while one-shot and few-shot prompts teach the model how to behave so you can get more predictable answers that are consistent with the examples provided."
   ]
  },
  {
   "cell_type": "code",
   "execution_count": null,
   "metadata": {},
   "outputs": [],
   "source": []
  }
 ],
 "metadata": {
  "colab": {
   "name": "intro_prompt_design.ipynb",
   "toc_visible": true
  },
  "environment": {
   "kernel": "conda-base-py",
   "name": "workbench-notebooks.m129",
   "type": "gcloud",
   "uri": "us-docker.pkg.dev/deeplearning-platform-release/gcr.io/workbench-notebooks:m129"
  },
  "kernelspec": {
   "display_name": "Python 3 (ipykernel) (Local)",
   "language": "python",
   "name": "conda-base-py"
  },
  "language_info": {
   "codemirror_mode": {
    "name": "ipython",
    "version": 3
   },
   "file_extension": ".py",
   "mimetype": "text/x-python",
   "name": "python",
   "nbconvert_exporter": "python",
   "pygments_lexer": "ipython3",
   "version": "3.10.16"
  }
 },
 "nbformat": 4,
 "nbformat_minor": 4
}
